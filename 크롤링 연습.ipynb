{
 "cells": [
  {
   "cell_type": "code",
   "execution_count": 70,
   "id": "958814ec",
   "metadata": {},
   "outputs": [
    {
     "name": "stdout",
     "output_type": "stream",
     "text": [
      "그때 그 순간 그대로 (그그그) 1 WSG워너비 (가야G)\n",
      "보고싶었어 2 WSG워너비 (4FIRE)\n",
      "Clink Clink (클링 클링) 3 WSG워너비 (오아시소)\n",
      "LOVE DIVE 4 IVE (아이브)\n",
      "POP! 5 나연 (TWICE)\n",
      "TOMBOY 6 (여자)아이들\n",
      "바보에게 바보가 (웹툰 '연애의 발견' X 이석훈) 7 이석훈\n",
      "That That (Prod. & Feat. SUGA of BTS) 8 싸이 (Psy)\n",
      "정이라고 하자 (Feat. 10CM) 9 BIG Naughty (서동현)\n",
      "사랑인가 봐 10 멜로망스 (MeloMance)\n",
      "나의 X에게 11 경서\n",
      "LOVE me 12 BE'O (비오)\n",
      "봄여름가을겨울 (Still Life) 13 BIGBANG (빅뱅)\n",
      "취중고백 14 김민석 (멜로망스)\n",
      "사랑은 늘 도망가 15 임영웅\n",
      "신호등 16 이무진\n",
      "내가 아니라도 17 주호\n",
      "다정히 내 이름을 부르면 18 경서예지 & 전건호\n",
      "FEARLESS 19 LE SSERAFIM (르세라핌)\n",
      "Feel My Rhythm 20 Red Velvet (레드벨벳)\n",
      "MY BAG 21 (여자)아이들\n",
      "우리들의 블루스 22 임영웅\n",
      "없었던 일로 23 헤이즈 (Heize)\n",
      "Stay 24 The Kid LAROI & Justin Bieber\n",
      "Girls 25 aespa\n",
      "Sparkling 26 청하\n",
      "Yet To Come 27 방탄소년단\n",
      "GANADARA (Feat. 아이유) 28 박재범\n",
      "ELEVEN 29 IVE (아이브)\n",
      "That's Hilarious 30 Charlie Puth\n",
      "I LOVE U 31 WINNER\n",
      "아무래도 난 32 주시크 (Joosiq)\n",
      "팡파레 33 다비치\n",
      "그라데이션 34 10CM\n",
      "듣고 싶을까 35 MSG워너비 (M.O.M)\n",
      "INVU 36 태연 (TAEYEON)\n",
      "Next Level 37 aespa\n",
      "바라만 본다 38 MSG워너비 (M.O.M)\n",
      "너의 모든 순간 39 성시경\n",
      "해요 (2022) 40 #안녕\n",
      "ZOOM 41 제시\n",
      "Love story 42 볼빨간사춘기\n",
      "Weekend 43 태연 (TAEYEON)\n",
      "회전목마 (Feat. Zion.T & 원슈타인) (Prod. by Slom) 44 sokodomo\n",
      "다시 만날 수 있을까 45 임영웅\n",
      "너를 생각해 46 주시크 (Joosiq)\n",
      "Dynamite 47 방탄소년단\n",
      "Bad Habits 48 Ed Sheeran\n",
      "OHAYO MY NIGHT 49 디핵 (D-Hack) & PATEKO\n",
      "늦은 밤 헤어지긴 너무 아쉬워 50 케이시 (Kassy)\n"
     ]
    }
   ],
   "source": [
    "import requests\n",
    "import pandas as pd\n",
    "from bs4 import BeautifulSoup\n",
    "\n",
    "headers = {'User-Agent' : 'Mozilla/5.0 (Windows NT 10.0; Win64; x64)AppleWebKit/537.36 (KHTML, like Gecko) Chrome/73.0.3683.86 Safari/537.36'}\n",
    "data = requests.get('https://www.genie.co.kr/chart/top200?ditc=D&ymd=20220712&hh=13&rtm=N&pg=1',headers=headers)\n",
    "\n",
    "soup = BeautifulSoup(data.text, 'html.parser')\n",
    "music = soup.select('#body-content > div.newest-list > div > table > tbody > tr')\n",
    "\n",
    "for tr in music:\n",
    "    title = tr.select_one('td.info > a.title.ellipsis').text.strip()\n",
    "    rank = tr.select_one('td.number').text[0:2].strip()\n",
    "    artist = tr.select_one('a.artist.ellipsis').text\n",
    "    print(title,rank,artist)"
   ]
  }
 ],
 "metadata": {
  "kernelspec": {
   "display_name": "Python 3 (ipykernel)",
   "language": "python",
   "name": "python3"
  },
  "language_info": {
   "codemirror_mode": {
    "name": "ipython",
    "version": 3
   },
   "file_extension": ".py",
   "mimetype": "text/x-python",
   "name": "python",
   "nbconvert_exporter": "python",
   "pygments_lexer": "ipython3",
   "version": "3.9.7"
  }
 },
 "nbformat": 4,
 "nbformat_minor": 5
}
